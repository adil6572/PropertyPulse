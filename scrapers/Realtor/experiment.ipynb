{
 "cells": [
  {
   "cell_type": "code",
   "execution_count": 2,
   "metadata": {
    "pycharm": {
     "name": "#%%\n"
    }
   },
   "outputs": [],
   "source": [
    "import json\n",
    "import requests\n",
    "from bs4 import BeautifulSoup\n",
    "from datetime import datetime"
   ]
  },
  {
   "cell_type": "code",
   "execution_count": null,
   "metadata": {
    "collapsed": false,
    "pycharm": {
     "name": "#%%\n"
    }
   },
   "outputs": [],
   "source": [
    "import requests\n",
    "\n",
    "headers = {\n",
    "    'authority': 'www.trulia.com',\n",
    "    'accept': 'text/html,application/xhtml+xml,application/xml;q=0.9,image/avif,image/webp,image/apng,*/*;q=0.8,application/signed-exchange;v=b3;q=0.7',\n",
    "    'accept-language': 'en-GB,en;q=0.9',\n",
    "    'cache-control': 'max-age=0',\n",
    "    # 'cookie': '_pxhd=Pmb3UA-RMlYLkHhAw786hzO-/FQ2JBydYx49PDsBYvMP6VDr6qK-84YmwcHgw6LWtkw98kFUQ-vNM52VuK-Ntw==:Z46o2iA3BbA2BqBqTSX5/HspXqyOcSkfMOcFb/A5Xv/Q8xlWGqrHwtNaGuPHn/EzoOWj8CCne84BaXbjN3f39Fslueg2sKWpOfUnwyTZyWQ=; _csrfSecret=m10N9JP%2B%2B5NTUsk0p71RqC4E; tlftmusr=240303s9rc2qbdq0cygoihipe4uum483; tabc=%7B%221274%22%3A%22a%22%2C%221337%22%3A%22b%22%2C%221341%22%3A%22b%22%2C%221353%22%3A%22b%22%2C%221365%22%3A%22b%22%2C%221377%22%3A%22b%22%2C%221386%22%3A%22b%22%2C%221395%22%3A%22c%22%2C%221406%22%3A%22a%22%2C%221409%22%3A%22b%22%2C%221425%22%3A%22a%22%2C%221437%22%3A%22a%22%2C%221439%22%3A%22d%22%2C%221440%22%3A%22b%22%2C%221444%22%3A%22a%22%2C%221452%22%3A%22a%22%2C%221464%22%3A%22a%22%2C%221469%22%3A%22a%22%2C%221475%22%3A%22b%22%2C%221476%22%3A%22control%22%2C%221478%22%3A%22control%22%7D; s_fid=2251A124A4CE106A-27CCB8FB6F01E30D; s_cc=true; s_vi=[CS]v1|32F207727EA2A373-6000102800046115[CE]; zjs_user_id=null; zg_anonymous_id=%2291cef6a3-d7c2-4219-98ca-32373d792a32%22; zjs_anonymous_id=%22240303s9rc2qbdq0cygoihipe4uum483%22; g_state=googleOneTap; pxcts=7e3bc907-d921-11ee-9a22-ed7bb3190c7b; _pxvid=7cb97b4c-d921-11ee-9a6e-600de7ee500f; _pxff_tm=1; trul_visitTimer=1709444837428_1709444912490; _px3=8868281e86f2827d707cc36ebac84624557fcdadc78035a20091a0953c205747:tU9xoq9VpH3dufWeoxum7F+D7OFM4wp3ldC0wRmg2S6alDGdf/tWzoHOsmmotOAIdSUKfgX8095Xafbd2XhGtQ==:1000:Zsb/PTDUG4Z3To4P61akFT9ianhi5HLC4/vdiLuvxd3sMBMA06k5yYFfCMAIv/ndQszki1NtEXZ3XS7TVJElzD84i+z1Ovq0i8Rsl0r+y3KHQrW4W2q506nIs93R/uSOBvbe4/ujmkO/wcWdYpoHCvD2aMTQyzsO/lyFXrVhLNQlyRPawEQ4ZL7Hs2mi6Q/kguposTdz6643AUbxCDaqSVW86QP5g5MlmhchPEPbs04=; s_sq=truliacom%3D%2526c.%2526a.%2526activitymap.%2526page%253Dbuy%25253Apdp%25253Aoverview%2526link%253DSkip%252520main%252520navigation%252520Buy%252520Rent%252520Mortgage%252520Saved%252520Homes%252520Saved%252520Searches%252520Sign%252520up%252520or%252520Log%252520in%252520Back%252520to%252520Search%252520For%252520Sale%252520NY%252520Albany%25252012210%252520372%252520%2526region%253DBODY%2526pageIDType%253D1%2526.activitymap%2526.a%2526.c%2526pid%253Dbuy%25253Apdp%25253Aoverview%2526pidt%253D1%2526oid%253Dfunctionrg%252528%252529%25257B%25257D%2526oidt%253D2%2526ot%253DDIV; _dd_s=rum=0&expire=1709445893634',\n",
    "    'referer': 'https://www.trulia.com/',\n",
    "    'sec-ch-ua': '\"Not A(Brand\";v=\"99\", \"Google Chrome\";v=\"121\", \"Chromium\";v=\"121\"',\n",
    "    'sec-ch-ua-mobile': '?0',\n",
    "    'sec-ch-ua-platform': '\"Windows\"',\n",
    "    'sec-fetch-dest': 'document',\n",
    "    'sec-fetch-mode': 'navigate',\n",
    "    'sec-fetch-site': 'same-origin',\n",
    "    'sec-fetch-user': '?1',\n",
    "    'upgrade-insecure-requests': '1',\n",
    "    'user-agent': 'Mozilla/5.0 (Windows NT 10.0; Win64; x64) AppleWebKit/537.36 (KHTML, like Gecko) Chrome/121.0.0.0 Safari/537.36',\n",
    "}\n",
    "\n",
    "response = requests.get('https://www.realtor.com/realestateandhomes-search/Los-Gatos_CA', headers=headers)"
   ]
  },
  {
   "cell_type": "code",
   "execution_count": null,
   "metadata": {
    "collapsed": false,
    "pycharm": {
     "name": "#%%\n"
    }
   },
   "outputs": [],
   "source": [
    "def make_request(url):\n",
    "    import requests\n",
    "\n",
    "    headers = {\n",
    "        'authority': 'www.trulia.com',\n",
    "        'accept': 'text/html,application/xhtml+xml,application/xml;q=0.9,image/avif,image/webp,image/apng,*/*;q=0.8,application/signed-exchange;v=b3;q=0.7',\n",
    "        'accept-language': 'en-GB,en;q=0.9',\n",
    "        'cache-control': 'max-age=0',\n",
    "        # 'cookie': '_pxhd=Pmb3UA-RMlYLkHhAw786hzO-/FQ2JBydYx49PDsBYvMP6VDr6qK-84YmwcHgw6LWtkw98kFUQ-vNM52VuK-Ntw==:Z46o2iA3BbA2BqBqTSX5/HspXqyOcSkfMOcFb/A5Xv/Q8xlWGqrHwtNaGuPHn/EzoOWj8CCne84BaXbjN3f39Fslueg2sKWpOfUnwyTZyWQ=; _csrfSecret=m10N9JP%2B%2B5NTUsk0p71RqC4E; tlftmusr=240303s9rc2qbdq0cygoihipe4uum483; tabc=%7B%221274%22%3A%22a%22%2C%221337%22%3A%22b%22%2C%221341%22%3A%22b%22%2C%221353%22%3A%22b%22%2C%221365%22%3A%22b%22%2C%221377%22%3A%22b%22%2C%221386%22%3A%22b%22%2C%221395%22%3A%22c%22%2C%221406%22%3A%22a%22%2C%221409%22%3A%22b%22%2C%221425%22%3A%22a%22%2C%221437%22%3A%22a%22%2C%221439%22%3A%22d%22%2C%221440%22%3A%22b%22%2C%221444%22%3A%22a%22%2C%221452%22%3A%22a%22%2C%221464%22%3A%22a%22%2C%221469%22%3A%22a%22%2C%221475%22%3A%22b%22%2C%221476%22%3A%22control%22%2C%221478%22%3A%22control%22%7D; s_fid=2251A124A4CE106A-27CCB8FB6F01E30D; s_cc=true; s_vi=[CS]v1|32F207727EA2A373-6000102800046115[CE]; zjs_user_id=null; zg_anonymous_id=%2291cef6a3-d7c2-4219-98ca-32373d792a32%22; zjs_anonymous_id=%22240303s9rc2qbdq0cygoihipe4uum483%22; g_state=googleOneTap; pxcts=7e3bc907-d921-11ee-9a22-ed7bb3190c7b; _pxvid=7cb97b4c-d921-11ee-9a6e-600de7ee500f; _pxff_tm=1; trul_visitTimer=1709444837428_1709444912490; _px3=8868281e86f2827d707cc36ebac84624557fcdadc78035a20091a0953c205747:tU9xoq9VpH3dufWeoxum7F+D7OFM4wp3ldC0wRmg2S6alDGdf/tWzoHOsmmotOAIdSUKfgX8095Xafbd2XhGtQ==:1000:Zsb/PTDUG4Z3To4P61akFT9ianhi5HLC4/vdiLuvxd3sMBMA06k5yYFfCMAIv/ndQszki1NtEXZ3XS7TVJElzD84i+z1Ovq0i8Rsl0r+y3KHQrW4W2q506nIs93R/uSOBvbe4/ujmkO/wcWdYpoHCvD2aMTQyzsO/lyFXrVhLNQlyRPawEQ4ZL7Hs2mi6Q/kguposTdz6643AUbxCDaqSVW86QP5g5MlmhchPEPbs04=; s_sq=truliacom%3D%2526c.%2526a.%2526activitymap.%2526page%253Dbuy%25253Apdp%25253Aoverview%2526link%253DSkip%252520main%252520navigation%252520Buy%252520Rent%252520Mortgage%252520Saved%252520Homes%252520Saved%252520Searches%252520Sign%252520up%252520or%252520Log%252520in%252520Back%252520to%252520Search%252520For%252520Sale%252520NY%252520Albany%25252012210%252520372%252520%2526region%253DBODY%2526pageIDType%253D1%2526.activitymap%2526.a%2526.c%2526pid%253Dbuy%25253Apdp%25253Aoverview%2526pidt%253D1%2526oid%253Dfunctionrg%252528%252529%25257B%25257D%2526oidt%253D2%2526ot%253DDIV; _dd_s=rum=0&expire=1709445893634',\n",
    "        'referer': 'https://www.trulia.com/',\n",
    "        'sec-ch-ua': '\"Not A(Brand\";v=\"99\", \"Google Chrome\";v=\"121\", \"Chromium\";v=\"121\"',\n",
    "        'sec-ch-ua-mobile': '?0',\n",
    "        'sec-ch-ua-platform': '\"Windows\"',\n",
    "        'sec-fetch-dest': 'document',\n",
    "        'sec-fetch-mode': 'navigate',\n",
    "        'sec-fetch-site': 'same-origin',\n",
    "        'sec-fetch-user': '?1',\n",
    "        'upgrade-insecure-requests': '1',\n",
    "        'user-agent': 'Mozilla/5.0 (Windows NT 10.0; Win64; x64) AppleWebKit/537.36 (KHTML, like Gecko) Chrome/121.0.0.0 Safari/537.36',\n",
    "    }\n",
    "    try:\n",
    "        response = requests.get('https://www.realtor.com/realestateandhomes-search/Los-Gatos_CA', headers=headers)\n",
    "        if response.status_code == 200:\n",
    "            return response\n",
    "    except requests.ConnectionError:\n",
    "        pass\n",
    "    except Exception as e:\n",
    "        print(e.__class__)"
   ]
  },
  {
   "cell_type": "code",
   "execution_count": null,
   "metadata": {
    "collapsed": false,
    "pycharm": {
     "name": "#%%\n"
    }
   },
   "outputs": [],
   "source": [
    "response.content"
   ]
  },
  {
   "cell_type": "code",
   "execution_count": null,
   "metadata": {
    "collapsed": false,
    "pycharm": {
     "name": "#%%\n"
    }
   },
   "outputs": [],
   "source": [
    "def parse_page(response):\n",
    "    soup=BeautifulSoup(response.content,\"html.parser\")\n",
    "    print(soup.title.string)\n",
    "    next_data_script = soup.find('script', {'id': '__NEXT_DATA__'})\n",
    "    if next_data_script: \n",
    "        content = json.loads(next_data_script.string)\n",
    "        props=content[\"props\"]\n",
    "        pageProps=props[\"pageProps\"]\n",
    "        properties=pageProps['properties']\n",
    "        return properties\n",
    "    else:\n",
    "        print(\"Caotha Found\")\n",
    "        return None"
   ]
  },
  {
   "cell_type": "code",
   "execution_count": null,
   "metadata": {
    "collapsed": false,
    "pycharm": {
     "name": "#%%\n"
    }
   },
   "outputs": [],
   "source": [
    "def parse_properties(properties):\n",
    "    processed_properties =[]\n",
    "    for property in properties:\n",
    "        try:\n",
    "            processed=extract_property_details(property)\n",
    "            processed_properties.append(processed)\n",
    "        except Exception as e:\n",
    "            print(f\"Cannot extract details\")\n",
    "            raise e\n",
    "    return processed_properties\n"
   ]
  },
  {
   "cell_type": "code",
   "execution_count": null,
   "metadata": {
    "collapsed": false,
    "pycharm": {
     "name": "#%%\n"
    }
   },
   "outputs": [],
   "source": [
    "soup=BeautifulSoup(response.content,\"html.parser\")\n",
    "print(soup.title.string)\n",
    "next_data_script = soup.find('script', {'id': '__NEXT_DATA__'})\n",
    "if next_data_script: \n",
    "    content = json.loads(next_data_script.string)\n",
    "    "
   ]
  },
  {
   "cell_type": "code",
   "execution_count": null,
   "metadata": {
    "collapsed": false,
    "pycharm": {
     "name": "#%%\n"
    }
   },
   "outputs": [],
   "source": [
    "from pprint import pprint\n",
    "props=content[\"props\"]"
   ]
  },
  {
   "cell_type": "code",
   "execution_count": null,
   "metadata": {
    "collapsed": false,
    "pycharm": {
     "name": "#%%\n"
    }
   },
   "outputs": [],
   "source": [
    "content.keys()"
   ]
  },
  {
   "cell_type": "code",
   "execution_count": null,
   "metadata": {
    "collapsed": false,
    "pycharm": {
     "name": "#%%\n"
    }
   },
   "outputs": [],
   "source": [
    "content['props']"
   ]
  },
  {
   "cell_type": "code",
   "execution_count": null,
   "metadata": {
    "collapsed": false,
    "pycharm": {
     "name": "#%%\n"
    }
   },
   "outputs": [],
   "source": [
    "pageProps=props[\"pageProps\"]"
   ]
  },
  {
   "cell_type": "code",
   "execution_count": null,
   "metadata": {
    "collapsed": false,
    "pycharm": {
     "name": "#%%\n"
    }
   },
   "outputs": [],
   "source": [
    "pageProps['filters']"
   ]
  },
  {
   "cell_type": "code",
   "execution_count": null,
   "metadata": {
    "collapsed": false,
    "pycharm": {
     "name": "#%%\n"
    }
   },
   "outputs": [],
   "source": [
    "properties=pageProps['properties']"
   ]
  },
  {
   "cell_type": "code",
   "execution_count": null,
   "metadata": {
    "collapsed": false,
    "pycharm": {
     "name": "#%%\n"
    }
   },
   "outputs": [],
   "source": [
    "properties[1]"
   ]
  },
  {
   "cell_type": "code",
   "execution_count": null,
   "metadata": {
    "collapsed": false,
    "pycharm": {
     "name": "#%%\n"
    }
   },
   "outputs": [],
   "source": [
    "original_property.keys()"
   ]
  },
  {
   "cell_type": "code",
   "execution_count": null,
   "metadata": {
    "collapsed": false,
    "pycharm": {
     "name": "#%%\n"
    }
   },
   "outputs": [],
   "source": [
    "original_property[\"property_id\"]"
   ]
  },
  {
   "cell_type": "code",
   "execution_count": null,
   "metadata": {
    "collapsed": false,
    "pycharm": {
     "name": "#%%\n"
    }
   },
   "outputs": [],
   "source": [
    "def extract_property_details(data):\n",
    "    details = {}\n",
    "\n",
    "    details['property_id'] = data.get('property_id', '')\n",
    "    details['list_price'] = data.get('list_price', '')\n",
    "    details['status'] = data.get('status', '')\n",
    "    details['listing_id'] = data.get('listing_id', '')\n",
    "\n",
    "    primary_photo = data.get('primary_photo', {})\n",
    "    details['primary_photo'] = primary_photo.get('href', '')\n",
    "\n",
    "    description = data.get('description', {})\n",
    "    details['description'] = {\n",
    "        'beds': description.get('beds', '0'),\n",
    "        'baths': description.get('baths_consolidated', ''),\n",
    "        'sqft': description.get('sqft', ''),\n",
    "        'lot_sqft': description.get('lot_sqft', ''),\n",
    "        'type': description.get('type', ''),\n",
    "        'sold_price': description.get('sold_price', ''),\n",
    "        'sold_date': description.get('sold_date', '')\n",
    "    }\n",
    "\n",
    "    location = data.get('location', {})\n",
    "    details['location'] = location\n",
    "    # details['location'] = {\n",
    "    #     'address': {\n",
    "    #         'line': location.get('address', {}).get('line', ''),\n",
    "    #         'postal_code': location.get('address', {}).get('postal_code', ''),\n",
    "    #         'state': location.get('address', {}).get('state', ''),\n",
    "    #         'state_code': location.get('address', {}).get('state_code', ''),\n",
    "    #         'city': location.get('address', {}).get('city', ''),\n",
    "    #     },\n",
    "    #     'coordinate': {\n",
    "    #         'lat': location.get('coordinate', {}).get('lat', ''),\n",
    "    #         'lon': location.get('coordinate', {}).get('lon', '')\n",
    "    #     },\n",
    "    #     'county': {\n",
    "    #         'name': location.get('county', {}).get('name', ''),\n",
    "    #         'fips_code': location.get('county', {}).get('fips_code', '')\n",
    "    #     }\n",
    "    # }\n",
    "\n",
    "\n",
    "    flags = data.get('flags', {})\n",
    "    details['flags'] = {\n",
    "        'is_coming_soon': flags.get('is_coming_soon', False),\n",
    "        'is_new_listing': flags.get('is_new_listing', False),\n",
    "        'is_price_reduced': flags.get('is_price_reduced', False),\n",
    "        'is_foreclosure': flags.get('is_foreclosure', False),\n",
    "        'is_new_construction': flags.get('is_new_construction', False),\n",
    "        'is_pending': flags.get('is_pending', False),\n",
    "        'is_contingent': flags.get('is_contingent', False)\n",
    "    }\n",
    "\n",
    "\n",
    "\n",
    "    date_input = data.get('list_date', '')\n",
    "    formatted_date = datetime.strptime(date_input, \"%Y-%m-%dT%H:%M:%S.%fZ\").strftime(\"%Y-%m-%d %H:%M:%S\")\n",
    "    details['list_date'] = formatted_date\n",
    "    return details\n"
   ]
  },
  {
   "cell_type": "code",
   "execution_count": null,
   "metadata": {
    "collapsed": false,
    "pycharm": {
     "name": "#%%\n"
    }
   },
   "outputs": [],
   "source": [
    "properties[0]['location']"
   ]
  },
  {
   "cell_type": "code",
   "execution_count": null,
   "outputs": [],
   "source": [
    "properties[0]['location']"
   ],
   "metadata": {
    "collapsed": false,
    "pycharm": {
     "name": "#%%\n"
    }
   }
  },
  {
   "cell_type": "code",
   "execution_count": null,
   "outputs": [],
   "source": [
    "\n",
    "original_property=properties[0]\n",
    "clean_data = extract_property_details(original_property)\n"
   ],
   "metadata": {
    "collapsed": false,
    "pycharm": {
     "name": "#%%\n"
    }
   }
  },
  {
   "cell_type": "code",
   "execution_count": null,
   "outputs": [],
   "source": [
    "for _ in properties:\n",
    "    extract_property_details(_)"
   ],
   "metadata": {
    "collapsed": false,
    "pycharm": {
     "name": "#%%\n"
    }
   }
  },
  {
   "cell_type": "code",
   "execution_count": null,
   "outputs": [],
   "source": [
    "original_property"
   ],
   "metadata": {
    "collapsed": false,
    "pycharm": {
     "name": "#%%\n"
    }
   }
  },
  {
   "cell_type": "code",
   "execution_count": 41,
   "metadata": {
    "pycharm": {
     "name": "#%%\n"
    }
   },
   "outputs": [],
   "source": [
    "for _ in properties:\n",
    "    extract_property_details(_)"
   ]
  },
  {
   "cell_type": "code",
   "execution_count": 46,
   "metadata": {
    "pycharm": {
     "name": "#%%\n"
    }
   },
   "outputs": [
    {
     "data": {
      "text/plain": [
       "{'property_id': '1950773885',\n",
       " 'list_price': 988000,\n",
       " 'search_promotions': None,\n",
       " 'primary_photo': {'href': 'https://ap.rdcpix.com/0467c422bee0fff7c88e347f40ef00e3l-m546309892s.jpg'},\n",
       " 'rent_to_own': None,\n",
       " 'listing_id': '2965536530',\n",
       " 'matterport': False,\n",
       " 'virtual_tours': [{'href': 'https://youtu.be/8w7I6fzGs94', 'type': None}],\n",
       " 'status': 'for_sale',\n",
       " 'products': {'products': ['core.agent', 'core.broker', 'co_broke'],\n",
       "  'brand_name': 'essentials'},\n",
       " 'source': {'id': 'SJCA',\n",
       "  'type': 'mls',\n",
       "  'spec_id': None,\n",
       "  'plan_id': None,\n",
       "  'agents': [{'office_name': None}]},\n",
       " 'lead_attributes': {'show_contact_an_agent': True,\n",
       "  'opcity_lead_attributes': {'cashback_enabled': False,\n",
       "   'flip_the_market_enabled': True},\n",
       "  'lead_type': 'co_broke',\n",
       "  'ready_connect_mortgage': {'show_contact_a_lender': False,\n",
       "   'show_veterans_united': False}},\n",
       " 'community': None,\n",
       " 'permalink': '16131-Loretta-Ln_Los-Gatos_CA_95032_M19507-73885',\n",
       " 'price_reduced_amount': None,\n",
       " 'description': {'name': None,\n",
       "  'beds': 3,\n",
       "  'baths_consolidated': '2.5',\n",
       "  'sqft': 1318,\n",
       "  'lot_sqft': None,\n",
       "  'baths_max': None,\n",
       "  'baths_min': None,\n",
       "  'beds_min': None,\n",
       "  'beds_max': None,\n",
       "  'sqft_min': None,\n",
       "  'sqft_max': None,\n",
       "  'type': 'townhomes',\n",
       "  'sub_type': 'townhouse',\n",
       "  'sold_price': 910000,\n",
       "  'sold_date': '2017-12-01'},\n",
       " 'location': {'street_view_url': 'https://maps.googleapis.com/maps/api/streetview?channel=rdc-streetview&client=gme-movesalesinc&location=16131%20Loretta%20Ln%2C%20Los%20Gatos%2C%20CA%2095032&size=640x480&source=outdoor&signature=ENYHFqVbRqDm9k0NTXhvwXNyIAg=',\n",
       "  'address': {'line': '16131 Loretta Ln',\n",
       "   'postal_code': '95032',\n",
       "   'state': 'California',\n",
       "   'state_code': 'CA',\n",
       "   'city': 'Los Gatos',\n",
       "   'coordinate': {'lat': 37.257616, 'lon': -121.950214}},\n",
       "  'county': {'name': 'Santa Clara', 'fips_code': '06085'}},\n",
       " 'open_houses': None,\n",
       " 'branding': [{'type': 'Office',\n",
       "   'name': 'Keller Williams Palo Alto',\n",
       "   'photo': None}],\n",
       " 'flags': {'is_coming_soon': None,\n",
       "  'is_new_listing': True,\n",
       "  'is_price_reduced': None,\n",
       "  'is_foreclosure': None,\n",
       "  'is_new_construction': None,\n",
       "  'is_pending': None,\n",
       "  'is_contingent': None},\n",
       " 'list_date': '2024-03-27T21:55:44.000000Z',\n",
       " 'photos': [{'href': 'https://ap.rdcpix.com/0467c422bee0fff7c88e347f40ef00e3l-m546309892s.jpg'},\n",
       "  {'href': 'https://ap.rdcpix.com/0467c422bee0fff7c88e347f40ef00e3l-m2578366188s.jpg'}],\n",
       " 'advertisers': [{'type': 'seller', 'builder': None}]}"
      ]
     },
     "execution_count": 46,
     "metadata": {},
     "output_type": "execute_result"
    }
   ],
   "source": [
    "original_property"
   ]
  },
  {
   "cell_type": "code",
   "execution_count": 45,
   "metadata": {
    "pycharm": {
     "name": "#%%\n"
    }
   },
   "outputs": [
    {
     "data": {
      "text/plain": [
       "{'property_id': '1950773885',\n",
       " 'list_price': 988000,\n",
       " 'status': 'for_sale',\n",
       " 'listing_id': '2965536530',\n",
       " 'primary_photo': 'https://ap.rdcpix.com/0467c422bee0fff7c88e347f40ef00e3l-m546309892s.jpg',\n",
       " 'description': {'beds': 3,\n",
       "  'baths': '2.5',\n",
       "  'sqft': 1318,\n",
       "  'lot_sqft': None,\n",
       "  'type': 'townhomes',\n",
       "  'sold_price': 910000,\n",
       "  'sold_date': '2017-12-01'},\n",
       " 'location': {'street_view_url': 'https://maps.googleapis.com/maps/api/streetview?channel=rdc-streetview&client=gme-movesalesinc&location=16131%20Loretta%20Ln%2C%20Los%20Gatos%2C%20CA%2095032&size=640x480&source=outdoor&signature=ENYHFqVbRqDm9k0NTXhvwXNyIAg=',\n",
       "  'address': {'line': '16131 Loretta Ln',\n",
       "   'postal_code': '95032',\n",
       "   'state': 'California',\n",
       "   'state_code': 'CA',\n",
       "   'city': 'Los Gatos',\n",
       "   'coordinate': {'lat': 37.257616, 'lon': -121.950214}},\n",
       "  'county': {'name': 'Santa Clara', 'fips_code': '06085'}},\n",
       " 'flags': {'is_coming_soon': None,\n",
       "  'is_new_listing': True,\n",
       "  'is_price_reduced': None,\n",
       "  'is_foreclosure': None,\n",
       "  'is_new_construction': None,\n",
       "  'is_pending': None,\n",
       "  'is_contingent': None},\n",
       " 'list_date': '2024-03-27 21:55:44'}"
      ]
     },
     "execution_count": 45,
     "metadata": {},
     "output_type": "execute_result"
    }
   ],
   "source": [
    "clean_data"
   ]
  },
  {
   "cell_type": "code",
   "execution_count": 26,
   "metadata": {
    "pycharm": {
     "name": "#%%\n"
    }
   },
   "outputs": [
    {
     "data": {
      "text/plain": [
       "{'area_type': 'city',\n",
       " '_id': 'city:ca_stockton',\n",
       " '_score': 36038.887,\n",
       " 'city': 'Stockton',\n",
       " 'state_code': 'CA',\n",
       " 'counties': [{'name': 'San Joaquin', 'fips': '06077', 'state_code': 'CA'}],\n",
       " 'country': 'USA',\n",
       " 'centroid': {'lon': -121.3088651, 'lat': 37.9772431},\n",
       " 'slug_id': 'Stockton_CA',\n",
       " 'geo_id': 'd6159468-1f4d-5071-bcfd-8a1c5cb6b871',\n",
       " 'county_needed_for_uniq': False}"
      ]
     },
     "execution_count": 26,
     "metadata": {},
     "output_type": "execute_result"
    }
   ],
   "source": [
    "pageProps['totalProperties']\n",
    "pageProps[\"geo\"]"
   ]
  },
  {
   "cell_type": "code",
   "execution_count": 28,
   "metadata": {
    "pycharm": {
     "name": "#%%\n"
    }
   },
   "outputs": [],
   "source": [
    "def meta_data(pageProps):\n",
    "    meta_data={}\n",
    "    meta_data['totalProperties']=pageProps.get('totalProperties')\n",
    "    meta_data['city']=pageProps[\"geo\"].get(\"city\")\n",
    "    meta_data['state_code']=pageProps[\"geo\"].get(\"state_code\")\n",
    "    meta_data['country']=pageProps[\"geo\"].get(\"country\")\n",
    "    meta_data['slug_id']=pageProps[\"geo\"].get(\"slug_id\")\n",
    "\n",
    "    return meta_data"
   ]
  },
  {
   "cell_type": "code",
   "execution_count": 29,
   "metadata": {
    "pycharm": {
     "name": "#%%\n"
    }
   },
   "outputs": [
    {
     "data": {
      "text/plain": [
       "{'totalProperties': 755,\n",
       " 'city': 'Stockton',\n",
       " 'state_code': 'CA',\n",
       " 'country': 'USA',\n",
       " 'slug_id': 'Stockton_CA'}"
      ]
     },
     "execution_count": 29,
     "metadata": {},
     "output_type": "execute_result"
    }
   ],
   "source": [
    "meta_data(pageProps)"
   ]
  }
 ],
 "metadata": {
  "kernelspec": {
   "display_name": "Python 3",
   "language": "python",
   "name": "python3"
  },
  "language_info": {
   "codemirror_mode": {
    "name": "ipython",
    "version": 3
   },
   "file_extension": ".py",
   "mimetype": "text/x-python",
   "name": "python",
   "nbconvert_exporter": "python",
   "pygments_lexer": "ipython3",
   "version": "3.9.0"
  }
 },
 "nbformat": 4,
 "nbformat_minor": 2
}